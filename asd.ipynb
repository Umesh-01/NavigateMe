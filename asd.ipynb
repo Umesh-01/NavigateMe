{
 "metadata": {
  "language_info": {
   "codemirror_mode": {
    "name": "ipython",
    "version": 3
   },
   "file_extension": ".py",
   "mimetype": "text/x-python",
   "name": "python",
   "nbconvert_exporter": "python",
   "pygments_lexer": "ipython3",
   "version": "3.8.10"
  },
  "orig_nbformat": 4,
  "kernelspec": {
   "name": "python3",
   "display_name": "Python 3.8.10 64-bit"
  },
  "interpreter": {
   "hash": "9a4fb90b378628ceaec602a2631000e5710574ae8d21ea0d2a444e7d6679df5f"
  }
 },
 "nbformat": 4,
 "nbformat_minor": 2,
 "cells": [
  {
   "cell_type": "code",
   "execution_count": 3,
   "metadata": {},
   "outputs": [
    {
     "output_type": "stream",
     "name": "stdout",
     "text": [
      "Collecting googlemaps\n",
      "  Downloading googlemaps-4.4.5.tar.gz (31 kB)\n",
      "Requirement already satisfied: requests<3.0,>=2.20.0 in c:\\users\\anupam\\appdata\\local\\programs\\python\\python38\\lib\\site-packages (from googlemaps) (2.25.1)\n",
      "Requirement already satisfied: urllib3<1.27,>=1.21.1 in c:\\users\\anupam\\appdata\\local\\programs\\python\\python38\\lib\\site-packages (from requests<3.0,>=2.20.0->googlemaps) (1.26.4)\n",
      "Requirement already satisfied: certifi>=2017.4.17 in c:\\users\\anupam\\appdata\\local\\programs\\python\\python38\\lib\\site-packages (from requests<3.0,>=2.20.0->googlemaps) (2020.12.5)\n",
      "Requirement already satisfied: idna<3,>=2.5 in c:\\users\\anupam\\appdata\\local\\programs\\python\\python38\\lib\\site-packages (from requests<3.0,>=2.20.0->googlemaps) (2.10)\n",
      "Requirement already satisfied: chardet<5,>=3.0.2 in c:\\users\\anupam\\appdata\\local\\programs\\python\\python38\\lib\\site-packages (from requests<3.0,>=2.20.0->googlemaps) (4.0.0)\n",
      "Building wheels for collected packages: googlemaps\n",
      "  Building wheel for googlemaps (setup.py): started\n",
      "  Building wheel for googlemaps (setup.py): finished with status 'done'\n",
      "  Created wheel for googlemaps: filename=googlemaps-4.4.5-py3-none-any.whl size=37982 sha256=dec64effed6b24aee901f2e7629a3734e63a2ceb65a50d8cc24c867239f8bd67\n",
      "  Stored in directory: c:\\users\\anupam\\appdata\\local\\pip\\cache\\wheels\\ba\\e0\\b5\\c1a0de4000d5c565052ded4d5e77bf185674de0f52aaa37d81\n",
      "Successfully built googlemaps\n",
      "Installing collected packages: googlemaps\n",
      "Successfully installed googlemaps-4.4.5\n",
      "Note: you may need to restart the kernel to use updated packages.\n",
      "WARNING: You are using pip version 21.1.1; however, version 21.1.2 is available.\n",
      "You should consider upgrading via the 'C:\\Users\\ANUPAM\\AppData\\Local\\Programs\\Python\\Python38\\python.exe -m pip install --upgrade pip' command.\n"
     ]
    }
   ],
   "source": [
    "pip install googlemaps"
   ]
  },
  {
   "cell_type": "code",
   "execution_count": null,
   "metadata": {},
   "outputs": [],
   "source": []
  }
 ]
}